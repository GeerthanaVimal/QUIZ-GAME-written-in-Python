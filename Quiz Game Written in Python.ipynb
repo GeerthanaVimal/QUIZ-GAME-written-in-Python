{
 "cells": [
  {
   "cell_type": "code",
   "execution_count": null,
   "id": "cecbac02-4e16-43dd-8774-624033915ff7",
   "metadata": {},
   "outputs": [
    {
     "name": "stdout",
     "output_type": "stream",
     "text": [
      "----------------------\n",
      " Which of the following is the correct extension of the Python file?: \n",
      "A. .python\n",
      "B. .pl\n",
      "C. .py\n",
      "D. .p\n"
     ]
    }
   ],
   "source": [
    "# QUIZ GAME\n",
    "\n",
    "questions = (\" Which of the following is the correct extension of the Python file?: \",\n",
    "                       \"Which of the following character is used to give single-line comments in Python?: \",\n",
    "                       \"Who developed Python Programming Language?: \",\n",
    "                       \"Which keyword is used for function in Python language?: \",\n",
    "                       \" Which of the following functions is a built-in function in python?: \")\n",
    "\n",
    "options = ((\"A. .python\", \"B. .pl\", \"C. .py\", \"D. .p\"),\n",
    "                   (\"A. //\", \"B. #\", \"C. !\", \"D. /*\"),\n",
    "                   (\"A. Wick van Rossum\", \"B. Rasmus Lerdorf\", \"C. Guido van Rossum\", \"D. Niene Stom\"),\n",
    "                   (\"A. Function\", \"B. def\", \"C. Fun\", \"D. Define\"),\n",
    "                   (\"A. factorial()\", \"B. print()\", \"C. seed()\", \"D. sqrt()\"))\n",
    "\n",
    "answers = (\"C\", \"B\", \"C\", \"B\", \"B\")\n",
    "guesses = []\n",
    "score = 0\n",
    "question_num = 0\n",
    "\n",
    "for question in questions:\n",
    "    print(\"----------------------\")\n",
    "    print(question)\n",
    "    for option in options[question_num]:\n",
    "        print(option)\n",
    "\n",
    "    guess = input(\"Enter (A, B, C, D): \").upper()\n",
    "    guesses.append(guess)\n",
    "    if guess == answers[question_num]:\n",
    "        score += 1\n",
    "        print(\"YOUR ANSWER IS CORRECT!\")\n",
    "    else:\n",
    "        print(\"YOUR ANSWER IS WRONG!\")\n",
    "        print(f\"{answers[question_num]} is the correct answer\")\n",
    "    question_num += 1\n",
    "\n",
    "print(\"----------------------\")\n",
    "print(\"       RESULTS        \")\n",
    "print(\"----------------------\")\n",
    "\n",
    "print(\"answers: \", end=\"\")\n",
    "for answer in answers:\n",
    "    print(answer, end=\" \")\n",
    "print()\n",
    "\n",
    "print(\"guesses: \", end=\"\")\n",
    "for guess in guesses:\n",
    "    print(guess, end=\" \")\n",
    "print()\n",
    "\n",
    "score = int(score / len(questions) * 100)\n",
    "print(f\"Your score is: {score}%\")"
   ]
  },
  {
   "cell_type": "code",
   "execution_count": null,
   "id": "f1618424-1e0b-42ab-8c0c-dba6d8a19569",
   "metadata": {},
   "outputs": [],
   "source": []
  }
 ],
 "metadata": {
  "kernelspec": {
   "display_name": "Python 3 (ipykernel)",
   "language": "python",
   "name": "python3"
  },
  "language_info": {
   "codemirror_mode": {
    "name": "ipython",
    "version": 3
   },
   "file_extension": ".py",
   "mimetype": "text/x-python",
   "name": "python",
   "nbconvert_exporter": "python",
   "pygments_lexer": "ipython3",
   "version": "3.9.13"
  }
 },
 "nbformat": 4,
 "nbformat_minor": 5
}
